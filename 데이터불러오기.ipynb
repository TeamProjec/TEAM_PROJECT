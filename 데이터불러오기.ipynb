{
 "cells": [
  {
   "cell_type": "markdown",
   "metadata": {},
   "source": [
    "데이터를 불러와보자 'with 영화진흥원api'"
   ]
  },
  {
   "cell_type": "code",
   "execution_count": 62,
   "metadata": {},
   "outputs": [],
   "source": [
    "import os\n",
    "import requests\n",
    "import json\n",
    "import calendar\n",
    "from tqdm import tqdm\n",
    "from datetime import date, timedelta\n",
    "\n",
    "key='1b6f2854da67fd41ed15ccc098c08ae0'\n",
    "movie_info_path='C:/Users/USER/Documents/DataScience/data'"
   ]
  },
  {
   "cell_type": "code",
   "execution_count": 63,
   "metadata": {},
   "outputs": [],
   "source": [
    "def check_dir(start_date,end_date):    \n",
    "    start_year = int(start_date.year)\n",
    "    end_year = int(end_date.year)\n",
    "    year = start_year\n",
    "    for i in tqdm(range(start_year,end_year+1)):        \n",
    "        if(os.path.isdir(movie_info_path+str(year))!=1):\n",
    "            os.mkdir(movie_info_path+str(year)+'/')\n",
    "            print(\"create \"+str(year)+\" folder\") \n",
    "\n",
    "        if(os.path.isdir(movie_info_path+str(year)+'_K')!=1):\n",
    "            os.mkdir(movie_info_path+str(year)+'_K/')\n",
    "            print(\"create \"+str(year)+\"_K folder\")   \n",
    "\n",
    "        if(os.path.isdir(movie_info_path+str(year)+'_F')!=1):\n",
    "            os.mkdir(movie_info_path+str(year)+'_F/')\n",
    "            print(\"create \"+str(year)+\"_F folder\")    \n",
    "        year += 1"
   ]
  },
  {
   "cell_type": "code",
   "execution_count": 64,
   "metadata": {},
   "outputs": [],
   "source": [
    "def daily_box_office_to_json(start_date,end_date):    \n",
    "    tmp_date = start_date\n",
    "    startDt = int(str(start_date)[0:4]+str(start_date)[5:7]+str(start_date)[8:10])\n",
    "    endDt = int(str(end_date)[0:4]+str(end_date)[5:7]+str(end_date)[8:10])\n",
    "    days = end_date - start_date\n",
    "    for i in tqdm(range(0,days.days+1)):\n",
    "        targetDt = int(str(tmp_date)[0:4]+str(tmp_date)[5:7]+str(tmp_date)[8:10])\n",
    "\n",
    "        if(os.path.isfile(\"C:/Users/USER/Documents/DataScience/data\"+str(targetDt)[0:4]+'/'+str(targetDt)+'.json')!=1):\n",
    "            url='http://www.kobis.or.kr/kobisopenapi/webservice/rest/boxoffice/searchDailyBoxOfficeList.json?key='+key+'&targetDt='+str(targetDt)\n",
    "            res = requests.get(url)\n",
    "            text = res.text\n",
    "            d = json.loads(text)\n",
    "            with open('data'+str(targetDt)[0:4]+'/'+str(targetDt)+'.json', 'w', encoding=\"utf-8\") as make_file:\n",
    "                json.dump(d, make_file, ensure_ascii=False, indent=\"\\t\")\n",
    "\n",
    "        if(os.path.isfile(\"C:/Users/USER/Documents/DataScience/data\"+str(targetDt)[0:4]+'_K/'+str(targetDt)+'_K.json')!=1):\n",
    "            url='http://www.kobis.or.kr/kobisopenapi/webservice/rest/boxoffice/searchDailyBoxOfficeList.json?key='+key+'&targetDt='+str(targetDt)+'&repNationCd=K'\n",
    "            res = requests.get(url)\n",
    "            text = res.text\n",
    "            d = json.loads(text)\n",
    "            with open('data'+str(targetDt)[0:4]+'_K/'+str(targetDt)+'_K.json', 'w', encoding=\"utf-8\") as make_file:\n",
    "                json.dump(d, make_file, ensure_ascii=False, indent=\"\\t\")\n",
    "\n",
    "        if(os.path.isfile(\"C:/Users/USER/Documents/DataScience/data\"+str(targetDt)[0:4]+'_F/'+str(targetDt)+'_F.json')!=1):\n",
    "            url='http://www.kobis.or.kr/kobisopenapi/webservice/rest/boxoffice/searchDailyBoxOfficeList.json?key='+key+'&targetDt='+str(targetDt)+'&repNationCd=F'\n",
    "            res = requests.get(url)\n",
    "            text = res.text\n",
    "            d = json.loads(text)\n",
    "            with open('data'+str(targetDt)[0:4]+'_F/'+str(targetDt)+'_F.json', 'w', encoding=\"utf-8\") as make_file:\n",
    "                json.dump(d, make_file, ensure_ascii=False, indent=\"\\t\")\n",
    "\n",
    "        tmp_date += timedelta(1)"
   ]
  },
  {
   "cell_type": "code",
   "execution_count": 65,
   "metadata": {},
   "outputs": [
    {
     "name": "stderr",
     "output_type": "stream",
     "text": [
      "\r",
      "  0%|          | 0/1 [00:00<?, ?it/s]\r",
      "100%|██████████| 1/1 [00:00<?, ?it/s]\n",
      "\r",
      "  0%|          | 0/28 [00:00<?, ?it/s]\r",
      "  4%|▎         | 1/28 [00:02<00:56,  2.10s/it]\r",
      "  7%|▋         | 2/28 [00:04<00:59,  2.27s/it]\r",
      " 11%|█         | 3/28 [00:07<01:00,  2.42s/it]\r",
      " 14%|█▍        | 4/28 [00:09<00:56,  2.37s/it]\r",
      " 18%|█▊        | 5/28 [00:11<00:50,  2.19s/it]\r",
      " 21%|██▏       | 6/28 [00:13<00:48,  2.19s/it]\r",
      " 25%|██▌       | 7/28 [00:15<00:46,  2.20s/it]\r",
      " 29%|██▊       | 8/28 [00:18<00:44,  2.21s/it]\r",
      " 32%|███▏      | 9/28 [00:20<00:41,  2.18s/it]\r",
      " 36%|███▌      | 10/28 [00:22<00:39,  2.18s/it]\r",
      " 39%|███▉      | 11/28 [00:24<00:37,  2.20s/it]\r",
      " 43%|████▎     | 12/28 [00:26<00:34,  2.18s/it]\r",
      " 46%|████▋     | 13/28 [00:29<00:35,  2.37s/it]\r",
      " 50%|█████     | 14/28 [00:36<00:50,  3.61s/it]\r",
      " 54%|█████▎    | 15/28 [00:38<00:40,  3.15s/it]\r",
      " 57%|█████▋    | 16/28 [00:40<00:34,  2.88s/it]\r",
      " 61%|██████    | 17/28 [00:42<00:29,  2.72s/it]\r",
      " 64%|██████▍   | 18/28 [00:45<00:26,  2.67s/it]\r",
      " 68%|██████▊   | 19/28 [00:47<00:23,  2.61s/it]\r",
      " 71%|███████▏  | 20/28 [00:50<00:20,  2.55s/it]\r",
      " 75%|███████▌  | 21/28 [00:52<00:16,  2.41s/it]\r",
      " 79%|███████▊  | 22/28 [00:54<00:14,  2.35s/it]\r",
      " 82%|████████▏ | 23/28 [00:57<00:11,  2.38s/it]\r",
      " 86%|████████▌ | 24/28 [00:59<00:09,  2.37s/it]\r",
      " 89%|████████▉ | 25/28 [01:01<00:06,  2.32s/it]\r",
      " 93%|█████████▎| 26/28 [01:03<00:04,  2.27s/it]\r",
      " 96%|█████████▋| 27/28 [01:06<00:02,  2.35s/it]\r",
      "100%|██████████| 28/28 [01:08<00:00,  2.35s/it]\n"
     ]
    }
   ],
   "source": [
    "start_date = date(2018,2,1)\n",
    "end_date = date(2018,2,28)\n",
    "check_dir(start_date,end_date)\n",
    "daily_box_office_to_json(start_date,end_date)"
   ]
  },
  {
   "cell_type": "code",
   "execution_count": 66,
   "metadata": {},
   "outputs": [],
   "source": [
    "import pandas as pd\n",
    "import requests\n",
    "import datetime\n",
    "import json\n",
    "from tqdm import tqdm_notebook\n",
    "from dateutil.relativedelta import relativedelta\n",
    "\n",
    "my_date = datetime.date(2018,2,1)"
   ]
  },
  {
   "cell_type": "code",
   "execution_count": 31,
   "metadata": {},
   "outputs": [
    {
     "ename": "FileNotFoundError",
     "evalue": "[Errno 2] No such file or directory: 'data/2017/20170101.json'",
     "output_type": "error",
     "traceback": [
      "\u001b[1;31m---------------------------------------------------------------------------\u001b[0m",
      "\u001b[1;31mFileNotFoundError\u001b[0m                         Traceback (most recent call last)",
      "\u001b[1;32m<ipython-input-31-77a67d5b1ba6>\u001b[0m in \u001b[0;36m<module>\u001b[1;34m()\u001b[0m\n\u001b[0;32m      1\u001b[0m \u001b[0mstart_date\u001b[0m \u001b[1;33m=\u001b[0m \u001b[0mdate\u001b[0m\u001b[1;33m(\u001b[0m\u001b[1;36m2017\u001b[0m\u001b[1;33m,\u001b[0m\u001b[1;36m1\u001b[0m\u001b[1;33m,\u001b[0m\u001b[1;36m1\u001b[0m\u001b[1;33m)\u001b[0m\u001b[1;33m\u001b[0m\u001b[0m\n\u001b[0;32m      2\u001b[0m \u001b[0mtargetDt\u001b[0m \u001b[1;33m=\u001b[0m \u001b[0mstr\u001b[0m\u001b[1;33m(\u001b[0m\u001b[0mstart_date\u001b[0m\u001b[1;33m)\u001b[0m\u001b[1;33m[\u001b[0m\u001b[1;36m0\u001b[0m\u001b[1;33m:\u001b[0m\u001b[1;36m4\u001b[0m\u001b[1;33m]\u001b[0m\u001b[1;33m+\u001b[0m\u001b[0mstr\u001b[0m\u001b[1;33m(\u001b[0m\u001b[0mstart_date\u001b[0m\u001b[1;33m)\u001b[0m\u001b[1;33m[\u001b[0m\u001b[1;36m5\u001b[0m\u001b[1;33m:\u001b[0m\u001b[1;36m7\u001b[0m\u001b[1;33m]\u001b[0m\u001b[1;33m+\u001b[0m\u001b[0mstr\u001b[0m\u001b[1;33m(\u001b[0m\u001b[0mstart_date\u001b[0m\u001b[1;33m)\u001b[0m\u001b[1;33m[\u001b[0m\u001b[1;36m8\u001b[0m\u001b[1;33m:\u001b[0m\u001b[1;36m10\u001b[0m\u001b[1;33m]\u001b[0m\u001b[1;33m\u001b[0m\u001b[0m\n\u001b[1;32m----> 3\u001b[1;33m \u001b[1;32mwith\u001b[0m \u001b[0mopen\u001b[0m\u001b[1;33m(\u001b[0m\u001b[1;34m'data/'\u001b[0m\u001b[1;33m+\u001b[0m\u001b[0mstr\u001b[0m\u001b[1;33m(\u001b[0m\u001b[0mtargetDt\u001b[0m\u001b[1;33m)\u001b[0m\u001b[1;33m[\u001b[0m\u001b[1;36m0\u001b[0m\u001b[1;33m:\u001b[0m\u001b[1;36m4\u001b[0m\u001b[1;33m]\u001b[0m\u001b[1;33m+\u001b[0m\u001b[1;34m'/'\u001b[0m\u001b[1;33m+\u001b[0m\u001b[0mstr\u001b[0m\u001b[1;33m(\u001b[0m\u001b[0mtargetDt\u001b[0m\u001b[1;33m)\u001b[0m\u001b[1;33m+\u001b[0m\u001b[1;34m'.json'\u001b[0m\u001b[1;33m,\u001b[0m \u001b[1;34m'r'\u001b[0m\u001b[1;33m,\u001b[0m \u001b[0mencoding\u001b[0m\u001b[1;33m=\u001b[0m\u001b[1;34m\"utf-8\"\u001b[0m\u001b[1;33m)\u001b[0m \u001b[1;32mas\u001b[0m \u001b[0mread_file\u001b[0m\u001b[1;33m:\u001b[0m\u001b[1;33m\u001b[0m\u001b[0m\n\u001b[0m\u001b[0;32m      4\u001b[0m     \u001b[0md\u001b[0m \u001b[1;33m=\u001b[0m \u001b[0mjson\u001b[0m\u001b[1;33m.\u001b[0m\u001b[0mload\u001b[0m\u001b[1;33m(\u001b[0m\u001b[0mread_file\u001b[0m\u001b[1;33m)\u001b[0m\u001b[1;33m\u001b[0m\u001b[0m\n\u001b[0;32m      5\u001b[0m \u001b[0md\u001b[0m\u001b[1;33m\u001b[0m\u001b[0m\n",
      "\u001b[1;31mFileNotFoundError\u001b[0m: [Errno 2] No such file or directory: 'data/2017/20170101.json'"
     ]
    }
   ],
   "source": [
    "start_date = date(2017,1,1)\n",
    "targetDt = str(start_date)[0:4]+str(start_date)[5:7]+str(start_date)[8:10]\n",
    "with open('data/'+str(targetDt)[0:4]+'/'+str(targetDt)+'.json', 'r', encoding=\"utf-8\") as read_file:\n",
    "    d = json.load(read_file)\n",
    "d"
   ]
  },
  {
   "cell_type": "code",
   "execution_count": 70,
   "metadata": {},
   "outputs": [],
   "source": [
    "#일별 데이터  : csv로 저장 함수 정의 \n",
    "\n",
    "mykey= '1b6f2854da67fd41ed15ccc098c08ae0' #kobis에서 key 발급\n",
    "#mykey='4aa9ba2ba5fd74d34df70439d3b483db'\n",
    "# mykey='aec9e1bc0c849c607bac8a03d6bdb25e' #내 키 일일 조회수 초과해서 예시에 있는 키\n",
    "\n",
    "def daily_boxoffice(start_date, end_date) :\n",
    "\n",
    "    final_list = []\n",
    "    url = 'http://www.kobis.or.kr/kobisopenapi/webservice/rest/boxoffice/searchDailyBoxOfficeList.json'\n",
    "\n",
    "    for single_date in tqdm_notebook(pd.date_range(start_date, end_date)) :\n",
    "        for rep in [\"\",\"_K\", \"_F\"] :            \n",
    "            dic={\n",
    "            'key' : mykey,\n",
    "            'targetDt' : single_date.strftime('%Y%m%d'),\n",
    "            'itemPerPage' : '10', \n",
    "            'repNationCd' : rep #한국영화 K, 외국영화 F\n",
    "            }\n",
    "\n",
    "            req = requests.get(url, params = dic)           \n",
    "            text = req.text\n",
    "            d = json.loads(text) \n",
    "\n",
    "            targetDt = str(single_date)[0:4]+str(single_date)[5:7]+str(single_date)[8:10]\n",
    "            with open('C:/Users/USER/Documents/DataScience/data'+str(targetDt)[0:4]+rep+'/'+str(targetDt)+rep+'.json', 'r', encoding=\"utf-8\") as read_file:\n",
    "                d = json.load(read_file)\n",
    "\n",
    "            for item in d[\"boxOfficeResult\"][\"dailyBoxOfficeList\"] :\n",
    "                value_list = []\n",
    "                key_list = []\n",
    "                for key, value in item.items() :\n",
    "                    key_list.append(key)\n",
    "                    value_list.append(value)\n",
    "\n",
    "                value_list.append(single_date)\n",
    "                key_list.append('CurrentDate')\n",
    "\n",
    "                value_list.append(rep)\n",
    "                key_list.append('Nation')\n",
    "\n",
    "                final_list.append(value_list)\n",
    "\n",
    "    return pd.DataFrame(final_list, columns=key_list)     # final_list에 담긴 내용을 df로 반"
   ]
  },
  {
   "cell_type": "code",
   "execution_count": 71,
   "metadata": {},
   "outputs": [
    {
     "data": {
      "application/vnd.jupyter.widget-view+json": {
       "model_id": "0d02fa20c6184ec0bf1d853abba66003",
       "version_major": 2,
       "version_minor": 0
      },
      "text/plain": [
       "A Jupyter Widget"
      ]
     },
     "metadata": {},
     "output_type": "display_data"
    },
    {
     "name": "stdout",
     "output_type": "stream",
     "text": [
      "\n"
     ]
    }
   ],
   "source": [
    "start_date = date(2018,2,1)\n",
    "end_date = date(2018,2,28)\n",
    "a = daily_boxoffice(start_date, end_date)"
   ]
  },
  {
   "cell_type": "code",
   "execution_count": 37,
   "metadata": {},
   "outputs": [
    {
     "ename": "NameError",
     "evalue": "name 'HBox' is not defined",
     "output_type": "error",
     "traceback": [
      "\u001b[1;31m---------------------------------------------------------------------------\u001b[0m",
      "\u001b[1;31mNameError\u001b[0m                                 Traceback (most recent call last)",
      "\u001b[1;32m<ipython-input-37-a417bcd20f6c>\u001b[0m in \u001b[0;36m<module>\u001b[1;34m()\u001b[0m\n\u001b[1;32m----> 1\u001b[1;33m \u001b[0mHBox\u001b[0m\u001b[1;33m(\u001b[0m\u001b[0mchildren\u001b[0m\u001b[1;33m=\u001b[0m\u001b[1;33m(\u001b[0m\u001b[0mIntProgress\u001b[0m\u001b[1;33m(\u001b[0m\u001b[0mvalue\u001b[0m\u001b[1;33m=\u001b[0m\u001b[1;36m0\u001b[0m\u001b[1;33m,\u001b[0m \u001b[0mmax\u001b[0m\u001b[1;33m=\u001b[0m\u001b[1;36m365\u001b[0m\u001b[1;33m)\u001b[0m\u001b[1;33m,\u001b[0m \u001b[0mHTML\u001b[0m\u001b[1;33m(\u001b[0m\u001b[0mvalue\u001b[0m\u001b[1;33m=\u001b[0m\u001b[1;34m''\u001b[0m\u001b[1;33m)\u001b[0m\u001b[1;33m)\u001b[0m\u001b[1;33m)\u001b[0m\u001b[1;33m\u001b[0m\u001b[0m\n\u001b[0m",
      "\u001b[1;31mNameError\u001b[0m: name 'HBox' is not defined"
     ]
    }
   ],
   "source": [
    "HBox(children=(IntProgress(value=0, max=365), HTML(value='')))"
   ]
  },
  {
   "cell_type": "code",
   "execution_count": 72,
   "metadata": {},
   "outputs": [
    {
     "data": {
      "application/vnd.jupyter.widget-view+json": {
       "model_id": "5697b0dcb0ea4332b976e540cbdca79d",
       "version_major": 2,
       "version_minor": 0
      },
      "text/plain": [
       "A Jupyter Widget"
      ]
     },
     "metadata": {},
     "output_type": "display_data"
    },
    {
     "data": {
      "application/vnd.jupyter.widget-view+json": {
       "model_id": "8d1c2b26fb024a859172503189ba6689",
       "version_major": 2,
       "version_minor": 0
      },
      "text/plain": [
       "A Jupyter Widget"
      ]
     },
     "metadata": {},
     "output_type": "display_data"
    },
    {
     "name": "stdout",
     "output_type": "stream",
     "text": [
      "\n"
     ]
    }
   ],
   "source": [
    "movie_code_list_all=pd.DataFrame()\n",
    "for i in tqdm_notebook(range(1)):\n",
    "    start_date = my_date + relativedelta(months=i)\n",
    "    end_date = start_date+ relativedelta(months=1) - datetime.timedelta(days=1)      \n",
    "\n",
    "    daily_boxoffice_data = daily_boxoffice(start_date, end_date)\n",
    "    startdate=start_date.strftime('%Y%m%d')\n",
    "\n",
    "    enddate=end_date.strftime('%Y%m%d')\n",
    "\n",
    "    movie_code_list = pd.DataFrame({'movieCd' :daily_boxoffice_data.movieCd.drop_duplicates(), 'movieNm':daily_boxoffice_data.movieNm.drop_duplicates(), 'director':'','Rate' : 0})\n",
    "\n",
    "\n",
    "    daily_boxoffice_data.to_csv(\"daliy_boxoffice_data_\"+startdate+\"~\"+enddate+\".csv\", index=False)\n",
    "    movie_code_list.to_csv(\"movie_code_list_\"+startdate+\"~\"+enddate+\".csv\", index=False)\n",
    "\n",
    "    movie_code_list_all = movie_code_list.append(movie_code_list_all)\n",
    "    movie_code_list_all = movie_code_list_all.drop_duplicates()\n",
    "    movie_code_list_all.to_csv(\"movie_code_list_all.csv\", index=False)"
   ]
  }
 ],
 "metadata": {
  "kernelspec": {
   "display_name": "Python 3",
   "language": "python",
   "name": "python3"
  },
  "language_info": {
   "codemirror_mode": {
    "name": "ipython",
    "version": 3
   },
   "file_extension": ".py",
   "mimetype": "text/x-python",
   "name": "python",
   "nbconvert_exporter": "python",
   "pygments_lexer": "ipython3",
   "version": "3.6.2"
  }
 },
 "nbformat": 4,
 "nbformat_minor": 2
}
